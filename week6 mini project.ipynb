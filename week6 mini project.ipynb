{
  "nbformat": 4,
  "nbformat_minor": 0,
  "metadata": {
    "colab": {
      "provenance": []
    },
    "kernelspec": {
      "name": "python3",
      "display_name": "Python 3"
    },
    "language_info": {
      "name": "python"
    }
  },
  "cells": [
    {
      "cell_type": "code",
      "execution_count": 1,
      "metadata": {
        "colab": {
          "base_uri": "https://localhost:8080/",
          "height": 357
        },
        "id": "H7bhdux94WdD",
        "outputId": "a9eee5ea-cedf-46e9-a560-2008fe1d6d67"
      },
      "outputs": [
        {
          "output_type": "display_data",
          "data": {
            "text/plain": [
              "<IPython.core.display.HTML object>"
            ],
            "text/html": [
              "\n",
              "     <input type=\"file\" id=\"files-d8599cc4-a475-4b4e-9889-3a72d2fda148\" name=\"files[]\" multiple disabled\n",
              "        style=\"border:none\" />\n",
              "     <output id=\"result-d8599cc4-a475-4b4e-9889-3a72d2fda148\">\n",
              "      Upload widget is only available when the cell has been executed in the\n",
              "      current browser session. Please rerun this cell to enable.\n",
              "      </output>\n",
              "      <script>// Copyright 2017 Google LLC\n",
              "//\n",
              "// Licensed under the Apache License, Version 2.0 (the \"License\");\n",
              "// you may not use this file except in compliance with the License.\n",
              "// You may obtain a copy of the License at\n",
              "//\n",
              "//      http://www.apache.org/licenses/LICENSE-2.0\n",
              "//\n",
              "// Unless required by applicable law or agreed to in writing, software\n",
              "// distributed under the License is distributed on an \"AS IS\" BASIS,\n",
              "// WITHOUT WARRANTIES OR CONDITIONS OF ANY KIND, either express or implied.\n",
              "// See the License for the specific language governing permissions and\n",
              "// limitations under the License.\n",
              "\n",
              "/**\n",
              " * @fileoverview Helpers for google.colab Python module.\n",
              " */\n",
              "(function(scope) {\n",
              "function span(text, styleAttributes = {}) {\n",
              "  const element = document.createElement('span');\n",
              "  element.textContent = text;\n",
              "  for (const key of Object.keys(styleAttributes)) {\n",
              "    element.style[key] = styleAttributes[key];\n",
              "  }\n",
              "  return element;\n",
              "}\n",
              "\n",
              "// Max number of bytes which will be uploaded at a time.\n",
              "const MAX_PAYLOAD_SIZE = 100 * 1024;\n",
              "\n",
              "function _uploadFiles(inputId, outputId) {\n",
              "  const steps = uploadFilesStep(inputId, outputId);\n",
              "  const outputElement = document.getElementById(outputId);\n",
              "  // Cache steps on the outputElement to make it available for the next call\n",
              "  // to uploadFilesContinue from Python.\n",
              "  outputElement.steps = steps;\n",
              "\n",
              "  return _uploadFilesContinue(outputId);\n",
              "}\n",
              "\n",
              "// This is roughly an async generator (not supported in the browser yet),\n",
              "// where there are multiple asynchronous steps and the Python side is going\n",
              "// to poll for completion of each step.\n",
              "// This uses a Promise to block the python side on completion of each step,\n",
              "// then passes the result of the previous step as the input to the next step.\n",
              "function _uploadFilesContinue(outputId) {\n",
              "  const outputElement = document.getElementById(outputId);\n",
              "  const steps = outputElement.steps;\n",
              "\n",
              "  const next = steps.next(outputElement.lastPromiseValue);\n",
              "  return Promise.resolve(next.value.promise).then((value) => {\n",
              "    // Cache the last promise value to make it available to the next\n",
              "    // step of the generator.\n",
              "    outputElement.lastPromiseValue = value;\n",
              "    return next.value.response;\n",
              "  });\n",
              "}\n",
              "\n",
              "/**\n",
              " * Generator function which is called between each async step of the upload\n",
              " * process.\n",
              " * @param {string} inputId Element ID of the input file picker element.\n",
              " * @param {string} outputId Element ID of the output display.\n",
              " * @return {!Iterable<!Object>} Iterable of next steps.\n",
              " */\n",
              "function* uploadFilesStep(inputId, outputId) {\n",
              "  const inputElement = document.getElementById(inputId);\n",
              "  inputElement.disabled = false;\n",
              "\n",
              "  const outputElement = document.getElementById(outputId);\n",
              "  outputElement.innerHTML = '';\n",
              "\n",
              "  const pickedPromise = new Promise((resolve) => {\n",
              "    inputElement.addEventListener('change', (e) => {\n",
              "      resolve(e.target.files);\n",
              "    });\n",
              "  });\n",
              "\n",
              "  const cancel = document.createElement('button');\n",
              "  inputElement.parentElement.appendChild(cancel);\n",
              "  cancel.textContent = 'Cancel upload';\n",
              "  const cancelPromise = new Promise((resolve) => {\n",
              "    cancel.onclick = () => {\n",
              "      resolve(null);\n",
              "    };\n",
              "  });\n",
              "\n",
              "  // Wait for the user to pick the files.\n",
              "  const files = yield {\n",
              "    promise: Promise.race([pickedPromise, cancelPromise]),\n",
              "    response: {\n",
              "      action: 'starting',\n",
              "    }\n",
              "  };\n",
              "\n",
              "  cancel.remove();\n",
              "\n",
              "  // Disable the input element since further picks are not allowed.\n",
              "  inputElement.disabled = true;\n",
              "\n",
              "  if (!files) {\n",
              "    return {\n",
              "      response: {\n",
              "        action: 'complete',\n",
              "      }\n",
              "    };\n",
              "  }\n",
              "\n",
              "  for (const file of files) {\n",
              "    const li = document.createElement('li');\n",
              "    li.append(span(file.name, {fontWeight: 'bold'}));\n",
              "    li.append(span(\n",
              "        `(${file.type || 'n/a'}) - ${file.size} bytes, ` +\n",
              "        `last modified: ${\n",
              "            file.lastModifiedDate ? file.lastModifiedDate.toLocaleDateString() :\n",
              "                                    'n/a'} - `));\n",
              "    const percent = span('0% done');\n",
              "    li.appendChild(percent);\n",
              "\n",
              "    outputElement.appendChild(li);\n",
              "\n",
              "    const fileDataPromise = new Promise((resolve) => {\n",
              "      const reader = new FileReader();\n",
              "      reader.onload = (e) => {\n",
              "        resolve(e.target.result);\n",
              "      };\n",
              "      reader.readAsArrayBuffer(file);\n",
              "    });\n",
              "    // Wait for the data to be ready.\n",
              "    let fileData = yield {\n",
              "      promise: fileDataPromise,\n",
              "      response: {\n",
              "        action: 'continue',\n",
              "      }\n",
              "    };\n",
              "\n",
              "    // Use a chunked sending to avoid message size limits. See b/62115660.\n",
              "    let position = 0;\n",
              "    do {\n",
              "      const length = Math.min(fileData.byteLength - position, MAX_PAYLOAD_SIZE);\n",
              "      const chunk = new Uint8Array(fileData, position, length);\n",
              "      position += length;\n",
              "\n",
              "      const base64 = btoa(String.fromCharCode.apply(null, chunk));\n",
              "      yield {\n",
              "        response: {\n",
              "          action: 'append',\n",
              "          file: file.name,\n",
              "          data: base64,\n",
              "        },\n",
              "      };\n",
              "\n",
              "      let percentDone = fileData.byteLength === 0 ?\n",
              "          100 :\n",
              "          Math.round((position / fileData.byteLength) * 100);\n",
              "      percent.textContent = `${percentDone}% done`;\n",
              "\n",
              "    } while (position < fileData.byteLength);\n",
              "  }\n",
              "\n",
              "  // All done.\n",
              "  yield {\n",
              "    response: {\n",
              "      action: 'complete',\n",
              "    }\n",
              "  };\n",
              "}\n",
              "\n",
              "scope.google = scope.google || {};\n",
              "scope.google.colab = scope.google.colab || {};\n",
              "scope.google.colab._files = {\n",
              "  _uploadFiles,\n",
              "  _uploadFilesContinue,\n",
              "};\n",
              "})(self);\n",
              "</script> "
            ]
          },
          "metadata": {}
        },
        {
          "output_type": "stream",
          "name": "stdout",
          "text": [
            "Saving olist_customers_dataset.csv to olist_customers_dataset.csv\n",
            "Saving olist_geolocation_dataset.csv to olist_geolocation_dataset.csv\n",
            "Saving olist_order_items_dataset.csv to olist_order_items_dataset.csv\n",
            "Saving olist_order_payments_dataset.csv to olist_order_payments_dataset.csv\n",
            "Saving olist_order_reviews_dataset.csv to olist_order_reviews_dataset.csv\n",
            "Saving olist_orders_dataset.csv to olist_orders_dataset.csv\n",
            "Saving olist_products_dataset.csv to olist_products_dataset.csv\n",
            "Saving olist_sellers_dataset.csv to olist_sellers_dataset.csv\n",
            "Saving product_category_name_translation.csv to product_category_name_translation.csv\n"
          ]
        }
      ],
      "source": [
        "from google.colab import files\n",
        "uploaded = files.upload()"
      ]
    },
    {
      "cell_type": "code",
      "source": [
        "import pandas as pd\n",
        "import numpy as np\n",
        "from google.colab import files\n",
        "from sqlalchemy import create_engine\n",
        "import os"
      ],
      "metadata": {
        "id": "KnYB3eR5MdQN"
      },
      "execution_count": 2,
      "outputs": []
    },
    {
      "cell_type": "code",
      "source": [
        "print(\"Uploaded files:\", list(uploaded.keys()))"
      ],
      "metadata": {
        "id": "Ka8H1AmQ41AU",
        "colab": {
          "base_uri": "https://localhost:8080/"
        },
        "outputId": "1a8039a1-db30-42b1-b718-79741555849c"
      },
      "execution_count": 3,
      "outputs": [
        {
          "output_type": "stream",
          "name": "stdout",
          "text": [
            "Uploaded files: ['olist_customers_dataset.csv', 'olist_geolocation_dataset.csv', 'olist_order_items_dataset.csv', 'olist_order_payments_dataset.csv', 'olist_order_reviews_dataset.csv', 'olist_orders_dataset.csv', 'olist_products_dataset.csv', 'olist_sellers_dataset.csv', 'product_category_name_translation.csv']\n"
          ]
        }
      ]
    },
    {
      "cell_type": "code",
      "source": [
        "required_files = [\n",
        "    'olist_customers_dataset.csv',\n",
        "    'olist_sellers_dataset.csv',\n",
        "    'olist_order_reviews_dataset.csv',\n",
        "    'olist_order_items_dataset.csv',\n",
        "    'olist_products_dataset.csv',\n",
        "    'olist_geolocation_dataset.csv',\n",
        "    'product_category_name_translation.csv',\n",
        "    'olist_orders_dataset.csv',\n",
        "    'olist_order_payments_dataset.csv'\n",
        "]\n",
        "\n",
        "# Check if all files are present\n",
        "missing_files = [f for f in required_files if f not in uploaded]\n",
        "if missing_files:\n",
        "    print(f\"Missing files: {missing_files}\")\n",
        "    print(\"Please re-upload all required files\")\n",
        "else:\n",
        "    print(\"All required files uploaded successfully\")\n",
        "\n",
        "# Load datasets with explicit file paths\n",
        "df_olist_customers = pd.read_csv('olist_customers_dataset.csv')\n",
        "df_olist_sellers = pd.read_csv('olist_sellers_dataset.csv')\n",
        "df_olist_order_reviews = pd.read_csv('olist_order_reviews_dataset.csv')\n",
        "df_olist_order_items = pd.read_csv('olist_order_items_dataset.csv')\n",
        "df_olist_products = pd.read_csv('olist_products_dataset.csv')\n",
        "df_olist_geolocation = pd.read_csv('olist_geolocation_dataset.csv')\n",
        "df_product_category_name_translation = pd.read_csv('product_category_name_translation.csv')\n",
        "df_olist_orders = pd.read_csv('olist_orders_dataset.csv')\n",
        "df_olist_order_payments = pd.read_csv('olist_order_payments_dataset.csv')\n",
        "\n",
        "print(\"DataFrames loaded successfully!\")"
      ],
      "metadata": {
        "colab": {
          "base_uri": "https://localhost:8080/"
        },
        "id": "bBZN3DgJ9Zy-",
        "outputId": "17bb17a3-894a-46b3-cb66-6d4fee3c2a62"
      },
      "execution_count": 4,
      "outputs": [
        {
          "output_type": "stream",
          "name": "stdout",
          "text": [
            "All required files uploaded successfully\n",
            "DataFrames loaded successfully!\n"
          ]
        }
      ]
    },
    {
      "cell_type": "code",
      "source": [
        "# Step 3: Create SQLite database\n",
        "engine = create_engine('sqlite:///brazilian_ecommerce.db', echo=False)\n",
        "\n",
        "# Step 4: Export DataFrames to SQL tables\n",
        "datasets = {\n",
        "    'olist_customers': df_olist_customers,\n",
        "    'olist_sellers': df_olist_sellers,\n",
        "    'olist_order_reviews': df_olist_order_reviews,\n",
        "    'olist_order_items': df_olist_order_items,\n",
        "    'olist_products': df_olist_products,\n",
        "    'olist_geolocation': df_olist_geolocation,\n",
        "    'product_translation': df_product_category_name_translation,\n",
        "    'olist_orders': df_olist_orders,\n",
        "    'olist_order_payments': df_olist_order_payments\n",
        "}\n",
        "\n",
        "for name, df in datasets.items():\n",
        "    df.to_sql(name, con=engine, index=False, if_exists='replace')\n",
        "    print(f\"Exported {name} ({len(df)} rows) to database\")\n",
        "\n",
        "# Step 5: Verify database setup\n",
        "tables = pd.read_sql(\"SELECT name FROM sqlite_master WHERE type='table'\", engine)\n",
        "print(\"\\nTables in database:\")\n",
        "print(tables)\n",
        "\n",
        "# Test query\n",
        "test_query = \"SELECT * FROM olist_customers LIMIT 3\"\n",
        "test_result = pd.read_sql(test_query, engine)\n",
        "print(\"\\nTest query result:\")\n",
        "print(test_result)"
      ],
      "metadata": {
        "colab": {
          "base_uri": "https://localhost:8080/"
        },
        "id": "2FtzpUiCMUtN",
        "outputId": "1bec8af2-73ce-4ba7-d364-f40fe726f241"
      },
      "execution_count": 5,
      "outputs": [
        {
          "output_type": "stream",
          "name": "stdout",
          "text": [
            "Exported olist_customers (99441 rows) to database\n",
            "Exported olist_sellers (3095 rows) to database\n",
            "Exported olist_order_reviews (99224 rows) to database\n",
            "Exported olist_order_items (112650 rows) to database\n",
            "Exported olist_products (32951 rows) to database\n",
            "Exported olist_geolocation (1000163 rows) to database\n",
            "Exported product_translation (71 rows) to database\n",
            "Exported olist_orders (99441 rows) to database\n",
            "Exported olist_order_payments (103886 rows) to database\n",
            "\n",
            "Tables in database:\n",
            "                   name\n",
            "0       olist_customers\n",
            "1         olist_sellers\n",
            "2   olist_order_reviews\n",
            "3     olist_order_items\n",
            "4        olist_products\n",
            "5     olist_geolocation\n",
            "6   product_translation\n",
            "7          olist_orders\n",
            "8  olist_order_payments\n",
            "\n",
            "Test query result:\n",
            "                        customer_id                customer_unique_id  \\\n",
            "0  06b8999e2fba1a1fbc88172c00ba8bc7  861eff4711a542e4b93843c6dd7febb0   \n",
            "1  18955e83d337fd6b2def6b18a428ac77  290c77bc529b7ac935b93aa66c333dc3   \n",
            "2  4e7b3e00288586ebd08712fdd0374a03  060e732b5b29e8181a18229c7b0b2b5e   \n",
            "\n",
            "   customer_zip_code_prefix          customer_city customer_state  \n",
            "0                     14409                 franca             SP  \n",
            "1                      9790  sao bernardo do campo             SP  \n",
            "2                      1151              sao paulo             SP  \n"
          ]
        }
      ]
    },
    {
      "cell_type": "code",
      "source": [
        "# Query 1: Count and Percentage of Jan 2018 Orders with 5-Star Reviews\n",
        "query1 = \"\"\"\n",
        "SELECT\n",
        "  COUNT(*) AS total_orders,\n",
        "  SUM(CASE WHEN rev.review_score = 5 THEN 1 ELSE 0 END) AS five_star_orders,\n",
        "  ROUND(100.0 * SUM(CASE WHEN rev.review_score = 5 THEN 1 ELSE 0 END) / COUNT(*), 2) AS percentage\n",
        "FROM olist_orders ord\n",
        "JOIN olist_order_reviews rev ON ord.order_id = rev.order_id\n",
        "WHERE STRFTIME('%Y-%m', ord.order_purchase_timestamp) = '2018-01'\n",
        "\"\"\"\n",
        "result1 = pd.read_sql(query1, engine)\n",
        "print(\"Query 1 Results: Jan 2018 Orders with 5-Star Reviews\")\n",
        "print(result1)\n",
        "print(\"\\n\" + \"=\"*80 + \"\\n\")"
      ],
      "metadata": {
        "id": "xjEv2eL2Mv7W",
        "colab": {
          "base_uri": "https://localhost:8080/"
        },
        "outputId": "1b311e35-30f5-44de-a58f-f8a5c33fe07e"
      },
      "execution_count": 6,
      "outputs": [
        {
          "output_type": "stream",
          "name": "stdout",
          "text": [
            "Query 1 Results: Jan 2018 Orders with 5-Star Reviews\n",
            "   total_orders  five_star_orders  percentage\n",
            "0          7245              4097       56.55\n",
            "\n",
            "================================================================================\n",
            "\n"
          ]
        }
      ]
    },
    {
      "cell_type": "code",
      "source": [
        "# Query 2: YoY Purchase Trends\n",
        "query2 = \"\"\"\n",
        "SELECT\n",
        "  STRFTIME('%Y', order_purchase_timestamp) AS year,\n",
        "  COUNT(DISTINCT customer_id) AS unique_customers,\n",
        "  COUNT(*) AS total_orders,\n",
        "  ROUND(SUM(pay.payment_value), 2) AS total_revenue\n",
        "FROM olist_orders ord\n",
        "JOIN olist_order_payments pay ON ord.order_id = pay.order_id\n",
        "GROUP BY year\n",
        "ORDER BY year\n",
        "\"\"\"\n",
        "result2 = pd.read_sql(query2, engine)\n",
        "print(\"Query 2 Results: Year-over-Year Purchase Trends\")\n",
        "print(result2)\n",
        "print(\"\\n\" + \"=\"*80 + \"\\n\")"
      ],
      "metadata": {
        "colab": {
          "base_uri": "https://localhost:8080/"
        },
        "id": "Zjn1Ay2Fuyfb",
        "outputId": "66ff7d14-8e23-4898-8357-f2c91c0f31f9"
      },
      "execution_count": 7,
      "outputs": [
        {
          "output_type": "stream",
          "name": "stdout",
          "text": [
            "Query 2 Results: Year-over-Year Purchase Trends\n",
            "   year  unique_customers  total_orders  total_revenue\n",
            "0  2016               328           346       59362.34\n",
            "1  2017             45101         47525     7249746.73\n",
            "2  2018             54011         56015     8699763.05\n",
            "\n",
            "================================================================================\n",
            "\n"
          ]
        }
      ]
    },
    {
      "cell_type": "code",
      "source": [
        "# Query 3: Average Order Value per Customer\n",
        "query3 = \"\"\"\n",
        "SELECT\n",
        "  customer_id,\n",
        "  ROUND(AVG(payment_value), 2) AS avg_order_value\n",
        "FROM (\n",
        "  SELECT ord.customer_id, pay.payment_value\n",
        "  FROM olist_orders ord\n",
        "  JOIN olist_order_payments pay ON ord.order_id = pay.order_id\n",
        ")\n",
        "GROUP BY customer_id\n",
        "ORDER BY avg_order_value DESC\n",
        "LIMIT 10  -- Showing top 10 for brevity\n",
        "\"\"\"\n",
        "result3 = pd.read_sql(query3, engine)\n",
        "print(\"Query 3 Results: Top 10 Customers by Average Order Value\")\n",
        "print(result3)\n",
        "print(\"\\n\" + \"=\"*80 + \"\\n\")"
      ],
      "metadata": {
        "colab": {
          "base_uri": "https://localhost:8080/"
        },
        "id": "wsj7D-vxu6ax",
        "outputId": "291dce93-fadb-4fbc-8225-cf748102c52d"
      },
      "execution_count": 8,
      "outputs": [
        {
          "output_type": "stream",
          "name": "stdout",
          "text": [
            "Query 3 Results: Top 10 Customers by Average Order Value\n",
            "                        customer_id  avg_order_value\n",
            "0  1617b1357756262bfa56ab541c47bc16         13664.08\n",
            "1  ec5b2ba62e574342386871631fafd3fc          7274.88\n",
            "2  c6e2731c5b391845f6800c97401a43a9          6929.31\n",
            "3  f48d464a0baaea338cb25f816991ab1f          6922.21\n",
            "4  3fd6777bbce08a352fddd04e4a7cc8f6          6726.66\n",
            "5  05455dfa7cd02f13d132aa7a6a9729c6          6081.54\n",
            "6  df55c14d1476a9a3467f131269c2477f          4950.34\n",
            "7  e0a2412720e9ea4f26c1ac985f6a7358          4809.44\n",
            "8  24bbf5fd2f2e1b359ee7de94defc4a15          4764.34\n",
            "9  3d979689f636322c62418b6346b1c6d2          4681.78\n",
            "\n",
            "================================================================================\n",
            "\n"
          ]
        }
      ]
    },
    {
      "cell_type": "code",
      "source": [
        "# Query 4: Top 5 Revenue Cities (2016-2018)\n",
        "query4 = \"\"\"\n",
        "SELECT\n",
        "  c.customer_city AS city,\n",
        "  ROUND(SUM(pay.payment_value), 2) AS total_revenue\n",
        "FROM olist_orders ord\n",
        "JOIN olist_customers c ON ord.customer_id = c.customer_id\n",
        "JOIN olist_order_payments pay ON ord.order_id = pay.order_id\n",
        "WHERE STRFTIME('%Y', order_purchase_timestamp) BETWEEN '2016' AND '2018'\n",
        "GROUP BY city\n",
        "ORDER BY total_revenue DESC\n",
        "LIMIT 5\n",
        "\"\"\"\n",
        "result4 = pd.read_sql(query4, engine)\n",
        "print(\"Query 4 Results: Top 5 Cities by Revenue (2016-2018)\")\n",
        "print(result4)\n",
        "print(\"\\n\" + \"=\"*80 + \"\\n\")"
      ],
      "metadata": {
        "colab": {
          "base_uri": "https://localhost:8080/"
        },
        "id": "Wxf9zHfIu_rH",
        "outputId": "24f64d18-1db5-4f8b-b00b-1491671d9c4e"
      },
      "execution_count": 9,
      "outputs": [
        {
          "output_type": "stream",
          "name": "stdout",
          "text": [
            "Query 4 Results: Top 5 Cities by Revenue (2016-2018)\n",
            "             city  total_revenue\n",
            "0       sao paulo     2203373.09\n",
            "1  rio de janeiro     1161927.36\n",
            "2  belo horizonte      421765.12\n",
            "3        brasilia      354216.78\n",
            "4        curitiba      247392.48\n",
            "\n",
            "================================================================================\n",
            "\n"
          ]
        }
      ]
    },
    {
      "cell_type": "code",
      "source": [
        "# Query 5: State Revenue Table (2016-2018)\n",
        "query5 = \"\"\"\n",
        "SELECT\n",
        "  c.customer_state AS state,\n",
        "  STRFTIME('%Y', order_purchase_timestamp) AS year,\n",
        "  ROUND(SUM(pay.payment_value), 2) AS revenue\n",
        "FROM olist_orders ord\n",
        "JOIN olist_customers c ON ord.customer_id = c.customer_id\n",
        "JOIN olist_order_payments pay ON ord.order_id = pay.order_id\n",
        "WHERE STRFTIME('%Y', order_purchase_timestamp) BETWEEN '2016' AND '2018'\n",
        "GROUP BY state, year\n",
        "ORDER BY year, revenue DESC\n",
        "\"\"\"\n",
        "result5 = pd.read_sql(query5, engine)\n",
        "print(\"Query 5 Results: State Revenue by Year (2016-2018)\")\n",
        "print(result5)\n",
        "print(\"\\n\" + \"=\"*80 + \"\\n\")"
      ],
      "metadata": {
        "colab": {
          "base_uri": "https://localhost:8080/"
        },
        "id": "21K16PW4vDou",
        "outputId": "8d4046a8-f814-4bf4-a72d-b6072bce00b6"
      },
      "execution_count": 10,
      "outputs": [
        {
          "output_type": "stream",
          "name": "stdout",
          "text": [
            "Query 5 Results: State Revenue by Year (2016-2018)\n",
            "   state  year   revenue\n",
            "0     SP  2016  16885.54\n",
            "1     RJ  2016  13407.58\n",
            "2     MG  2016   5642.97\n",
            "3     RS  2016   4790.70\n",
            "4     SC  2016   2730.42\n",
            "..   ...   ...       ...\n",
            "70    RO  2018  29382.48\n",
            "71    AM  2018  14935.32\n",
            "72    AP  2018   8931.27\n",
            "73    RR  2018   7852.79\n",
            "74    AC  2018   6683.10\n",
            "\n",
            "[75 rows x 3 columns]\n",
            "\n",
            "================================================================================\n",
            "\n"
          ]
        }
      ]
    },
    {
      "cell_type": "code",
      "source": [
        "# Query 6: Top Sellers\n",
        "query6 = \"\"\"\n",
        "SELECT\n",
        "  s.seller_id,\n",
        "  COUNT(i.order_item_id) AS items_sold,\n",
        "  ROUND(SUM(i.price + i.freight_value), 2) AS revenue,\n",
        "  COUNT(DISTINCT ord.customer_id) AS customers,\n",
        "  AVG(rev.review_score) AS avg_rating\n",
        "FROM olist_order_items i\n",
        "JOIN olist_sellers s ON i.seller_id = s.seller_id\n",
        "JOIN olist_orders ord ON i.order_id = ord.order_id\n",
        "JOIN olist_order_reviews rev ON ord.order_id = rev.order_id\n",
        "GROUP BY s.seller_id\n",
        "ORDER BY revenue DESC\n",
        "LIMIT 10  -- Showing top 10\n",
        "\"\"\"\n",
        "result6 = pd.read_sql(query6, engine)\n",
        "print(\"Query 6 Results: Top 10 Sellers\")\n",
        "print(result6)\n",
        "print(\"\\n\" + \"=\"*80 + \"\\n\")"
      ],
      "metadata": {
        "colab": {
          "base_uri": "https://localhost:8080/"
        },
        "id": "MZXcbdOfvIuS",
        "outputId": "eb2dcc58-1359-439e-86fd-bc09f3c01c2c"
      },
      "execution_count": 11,
      "outputs": [
        {
          "output_type": "stream",
          "name": "stdout",
          "text": [
            "Query 6 Results: Top 10 Sellers\n",
            "                          seller_id  items_sold    revenue  customers  \\\n",
            "0  4869f7a5dfa277a7dca6462dcf3b52b2        1148  248102.61       1124   \n",
            "1  7c67e1448b00f6e969d365cea6b010ab        1367  239610.34        976   \n",
            "2  4a3ca9315b744ce9f8e9374361493884        1984  235581.68       1785   \n",
            "3  53243585a1d6dc2643021fd1853d8905         408  233703.75        356   \n",
            "4  fa1c13f2614d7b5c4749cbc52fecda94         582  202744.74        581   \n",
            "5  da8622b14eb17ae2831f4ac5b9dab84a        1568  187200.57       1308   \n",
            "6  7e93a43ef30c4f03f38b393420bc753a         339  182487.13        335   \n",
            "7  1025f0e2d44d7041d6cf58b6550e0bfa        1431  173453.79        907   \n",
            "8  7a67c85e85bb2ce8582c35f2203ad736        1166  161927.66       1151   \n",
            "9  955fee9216a65b617aa5c0531780ce60        1489  159194.52       1277   \n",
            "\n",
            "   avg_rating  \n",
            "0    4.122822  \n",
            "1    3.348208  \n",
            "2    3.803931  \n",
            "3    4.075980  \n",
            "4    4.340206  \n",
            "5    4.071429  \n",
            "6    4.206490  \n",
            "7    3.849755  \n",
            "8    4.234991  \n",
            "9    4.051713  \n",
            "\n",
            "================================================================================\n",
            "\n"
          ]
        }
      ]
    },
    {
      "cell_type": "code",
      "source": [
        "# Query 7: Delivery Success Rate by State\n",
        "query7 = \"\"\"\n",
        "SELECT\n",
        "  c.customer_state AS state,\n",
        "  COUNT(*) AS total_orders,\n",
        "  SUM(CASE WHEN order_status = 'delivered' THEN 1 ELSE 0 END) AS successful_deliveries,\n",
        "  ROUND(100.0 * SUM(CASE WHEN order_status = 'delivered' THEN 1 ELSE 0 END) / COUNT(*), 2) AS success_rate\n",
        "FROM olist_orders ord\n",
        "JOIN olist_customers c ON ord.customer_id = c.customer_id\n",
        "GROUP BY state\n",
        "ORDER BY success_rate DESC\n",
        "\"\"\"\n",
        "result7 = pd.read_sql(query7, engine)\n",
        "print(\"Query 7 Results: Delivery Success Rate by State\")\n",
        "print(result7)\n",
        "print(\"\\n\" + \"=\"*80 + \"\\n\")"
      ],
      "metadata": {
        "colab": {
          "base_uri": "https://localhost:8080/"
        },
        "id": "WU-uHQ_-vPV6",
        "outputId": "7dc57680-cb67-4244-d24f-f5a3ccc94aca"
      },
      "execution_count": 12,
      "outputs": [
        {
          "output_type": "stream",
          "name": "stdout",
          "text": [
            "Query 7 Results: Delivery Success Rate by State\n",
            "   state  total_orders  successful_deliveries  success_rate\n",
            "0     AC            81                     80         98.77\n",
            "1     AP            68                     67         98.53\n",
            "2     ES          2033                   1995         98.13\n",
            "3     MS           715                    701         98.04\n",
            "4     AM           148                    145         97.97\n",
            "5     TO           280                    274         97.86\n",
            "6     RS          5466                   5345         97.79\n",
            "7     RN           485                    474         97.73\n",
            "8     MT           907                    886         97.68\n",
            "9     PR          5045                   4923         97.58\n",
            "10    MG         11635                  11354         97.58\n",
            "11    SC          3637                   3546         97.50\n",
            "12    DF          2140                   2080         97.20\n",
            "13    PA           975                    946         97.03\n",
            "14    SP         41746                  40501         97.02\n",
            "15    GO          2020                   1957         96.88\n",
            "16    PB           536                    517         96.46\n",
            "17    PE          1652                   1593         96.43\n",
            "18    BA          3380                   3256         96.33\n",
            "19    PI           495                    476         96.16\n",
            "20    AL           413                    397         96.13\n",
            "21    RJ         12852                  12350         96.09\n",
            "22    RO           253                    243         96.05\n",
            "23    MA           747                    717         95.98\n",
            "24    CE          1336                   1279         95.73\n",
            "25    SE           350                    335         95.71\n",
            "26    RR            46                     41         89.13\n",
            "\n",
            "================================================================================\n",
            "\n"
          ]
        }
      ]
    },
    {
      "cell_type": "code",
      "source": [
        "# Query 8: Preferred Payment Methods by Category\n",
        "query8 = \"\"\"\n",
        "SELECT\n",
        "  t.product_category_name_english AS category,\n",
        "  pay.payment_type,\n",
        "  COUNT(*) AS payment_count,\n",
        "  ROUND(100.0 * COUNT(*) / SUM(COUNT(*)) OVER (PARTITION BY t.product_category_name_english), 2) AS percentage\n",
        "FROM olist_order_payments pay\n",
        "JOIN olist_order_items i ON pay.order_id = i.order_id\n",
        "JOIN olist_products p ON i.product_id = p.product_id\n",
        "JOIN product_translation t ON p.product_category_name = t.product_category_name\n",
        "GROUP BY category, payment_type\n",
        "ORDER BY category, payment_count DESC\n",
        "\"\"\"\n",
        "result8 = pd.read_sql(query8, engine)\n",
        "print(\"Query 8 Results: Preferred Payment Methods by Category\")\n",
        "print(result8)\n",
        "print(\"\\n\" + \"=\"*80 + \"\\n\")"
      ],
      "metadata": {
        "colab": {
          "base_uri": "https://localhost:8080/"
        },
        "id": "fkzf-X-9vTV_",
        "outputId": "59354723-8727-4b90-c567-8a4be1982d39"
      },
      "execution_count": 13,
      "outputs": [
        {
          "output_type": "stream",
          "name": "stdout",
          "text": [
            "Query 8 Results: Preferred Payment Methods by Category\n",
            "                       category payment_type  payment_count  percentage\n",
            "0    agro_industry_and_commerce  credit_card            145       57.54\n",
            "1    agro_industry_and_commerce       boleto             60       23.81\n",
            "2    agro_industry_and_commerce      voucher             42       16.67\n",
            "3    agro_industry_and_commerce   debit_card              5        1.98\n",
            "4              air_conditioning  credit_card            222       73.51\n",
            "..                          ...          ...            ...         ...\n",
            "258                        toys   debit_card             45        1.05\n",
            "259               watches_gifts  credit_card           4858       78.34\n",
            "260               watches_gifts       boleto           1025       16.53\n",
            "261               watches_gifts      voucher            255        4.11\n",
            "262               watches_gifts   debit_card             63        1.02\n",
            "\n",
            "[263 rows x 4 columns]\n",
            "\n",
            "================================================================================\n",
            "\n"
          ]
        }
      ]
    },
    {
      "cell_type": "code",
      "source": [
        "# Query 9: Distance Between Cities - Corrected Version\n",
        "from sqlalchemy import text\n",
        "\n",
        "# First create temporary table with average geolocations\n",
        "with engine.connect() as connection:\n",
        "    connection.execute(text(\"\"\"\n",
        "        CREATE TEMP TABLE IF NOT EXISTS avg_geolocation AS\n",
        "        SELECT\n",
        "          geolocation_zip_code_prefix,\n",
        "          AVG(geolocation_lat) AS lat,\n",
        "          AVG(geolocation_lng) AS lng\n",
        "        FROM olist_geolocation\n",
        "        GROUP BY geolocation_zip_code_prefix\n",
        "    \"\"\"))\n",
        "    connection.commit()\n",
        "\n",
        "# Then calculate distances\n",
        "query9 = \"\"\"\n",
        "SELECT\n",
        "  c.customer_city,\n",
        "  s.seller_city,\n",
        "  ROUND(6371 * ACOS(\n",
        "    SIN(RADIANS(c_geo.lat)) * SIN(RADIANS(s_geo.lat)) +\n",
        "    COS(RADIANS(c_geo.lat)) * COS(RADIANS(s_geo.lat)) *\n",
        "    COS(RADIANS(s_geo.lng) - RADIANS(c_geo.lng))\n",
        "  ), 2) AS distance_km,\n",
        "  COUNT(*) AS order_count\n",
        "FROM olist_orders ord\n",
        "JOIN olist_customers c ON ord.customer_id = c.customer_id\n",
        "JOIN olist_order_items i ON ord.order_id = i.order_id\n",
        "JOIN olist_sellers s ON i.seller_id = s.seller_id\n",
        "JOIN avg_geolocation c_geo ON c.customer_zip_code_prefix = c_geo.geolocation_zip_code_prefix\n",
        "JOIN avg_geolocation s_geo ON s.seller_zip_code_prefix = s_geo.geolocation_zip_code_prefix\n",
        "GROUP BY c.customer_city, s.seller_city\n",
        "ORDER BY distance_km DESC\n",
        "LIMIT 10  -- Longest distances\n",
        "\"\"\"\n",
        "\n",
        "result9 = pd.read_sql(query9, engine)\n",
        "print(\"Query 9 Results: Top 10 Longest Delivery Distances Between Cities\")\n",
        "print(result9)\n",
        "print(\"\\n\" + \"=\"*80 + \"\\n\")"
      ],
      "metadata": {
        "colab": {
          "base_uri": "https://localhost:8080/"
        },
        "id": "z3gxHzwsvZUS",
        "outputId": "8204f42b-aa6a-4c29-9591-665e54071c86"
      },
      "execution_count": 19,
      "outputs": [
        {
          "output_type": "stream",
          "name": "stdout",
          "text": [
            "Query 9 Results: Top 10 Longest Delivery Distances Between Cities\n",
            "            customer_city           seller_city  distance_km  order_count\n",
            "0      ilha dos valadares      sao bento do sul      8677.91            1\n",
            "1         porto trombetas        ribeirao preto      5338.62            2\n",
            "2                ibiajara             sao paulo      4791.61            1\n",
            "3  santo antonio do canaa       mogi das cruzes      3927.41            1\n",
            "4               boa vista             bombinhas      3579.89            1\n",
            "5        vila dos cabanos          praia grande      3543.88            1\n",
            "6        vila dos cabanos           santo andre      3509.07            1\n",
            "7        vila dos cabanos                 salto      3470.99            1\n",
            "8               boa vista    fazenda rio grande      3399.19            1\n",
            "9               boa vista  sao jose dos pinhais      3387.36            1\n",
            "\n",
            "================================================================================\n",
            "\n"
          ]
        }
      ]
    },
    {
      "cell_type": "code",
      "source": [],
      "metadata": {
        "id": "wrIxmLHHvlK4"
      },
      "execution_count": null,
      "outputs": []
    }
  ]
}